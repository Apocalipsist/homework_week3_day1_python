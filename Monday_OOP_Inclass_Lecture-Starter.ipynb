{
 "cells": [
  {
   "cell_type": "markdown",
   "metadata": {},
   "source": [
    "# Object-Oriented-Programming (OOP)"
   ]
  },
  {
   "cell_type": "markdown",
   "metadata": {},
   "source": [
    "## Tasks Today:\n",
    "\n",
    "   \n",
    "\n",
    "1) <b>Creating a Class (Initializing/Declaring)</b> <br>\n",
    "2) <b>Using a Class (Instantiating)</b> <br>\n",
    " &nbsp;&nbsp;&nbsp;&nbsp; a) Creating One Instance <br>\n",
    " &nbsp;&nbsp;&nbsp;&nbsp; b) Creating Multiple Instances <br>\n",
    " &nbsp;&nbsp;&nbsp;&nbsp; c) In-Class Exercise #1 - Create a Class 'Car' and instantiate three different makes of cars <br>\n",
    "3) <b>The \\__init\\__() Method</b> <br>\n",
    " &nbsp;&nbsp;&nbsp;&nbsp; a) The 'self' Attribute <br>\n",
    "4) <b>Class Attributes</b> <br>\n",
    " &nbsp;&nbsp;&nbsp;&nbsp; a) Initializing Attributes <br>\n",
    " &nbsp;&nbsp;&nbsp;&nbsp; b) Setting an Attribute Outside of the \\__init\\__() Method <br>\n",
    " &nbsp;&nbsp;&nbsp;&nbsp; c) Setting Defaults for Attributes <br>\n",
    " &nbsp;&nbsp;&nbsp;&nbsp; d) Accessing Class Attributes <br>\n",
    " &nbsp;&nbsp;&nbsp;&nbsp; e) Changing Class Attributes <br>\n",
    " &nbsp;&nbsp;&nbsp;&nbsp; f) In-Class Exercise #2 - Update your 'Car' class with \\__init\\__() method and class attributes<br>\n",
    "5) <b>Class Methods</b> <br>\n",
    " &nbsp;&nbsp;&nbsp;&nbsp; a) Creating <br>\n",
    " &nbsp;&nbsp;&nbsp;&nbsp; b) Calling <br>\n",
    " &nbsp;&nbsp;&nbsp;&nbsp; c) Modifying an Attribute's Value Through a Method <br>\n",
    " &nbsp;&nbsp;&nbsp;&nbsp; d) Incrementing an Attribute's Value Through a Method <br>\n",
    " &nbsp;&nbsp;&nbsp;&nbsp; e) In-Class Exercise #3 - Update Car class with new methods <br>\n",
    "6) <b>Classes as Attributes</b> <br>\n",
    "8) <b>Exercises</b> <br>\n",
    " &nbsp;&nbsp;&nbsp;&nbsp; a) Exercise #1 - Turn the shopping cart program from yesterday into an object-oriented program <br>\n",
    "  &nbsp;&nbsp;&nbsp;&nbsp; a) Exercise #2 - Create an Animal class with Eat, Sleep, and Play methods <br>"
   ]
  },
  {
   "cell_type": "code",
   "execution_count": null,
   "metadata": {},
   "outputs": [],
   "source": [
    "# We can create our own classes such as creating atributes and methods for an object for example strings have the method\n",
    "# isdigit"
   ]
  },
  {
   "cell_type": "markdown",
   "metadata": {},
   "source": [
    "#### Object-Oriented Programming"
   ]
  },
  {
   "cell_type": "markdown",
   "metadata": {},
   "source": [
    "Object-Oriented Programming (OOP) allows us to create programs so that that properties and behaviors are bundled into **objects**. OOP models real-world entities as software objects that have some data associated with them and can perform certain functions."
   ]
  },
  {
   "cell_type": "markdown",
   "metadata": {},
   "source": [
    "## Creating a Class (Initializing/Declaring)\n",
    "<p>When creating a class, function, or even a variable you are initializing that object. Initializing and Declaring occur at the same time in Python, whereas in lower level languages you have to declare an object before initializing it. This is the first step in the process of using a class.</p>"
   ]
  },
  {
   "cell_type": "code",
   "execution_count": 2,
   "metadata": {},
   "outputs": [],
   "source": [
    "name = \"paco\"\n",
    "my_list = [1,2,3,4]\n",
    "x = 10\n",
    "\n",
    "def my_fun(a):\n",
    "    pass"
   ]
  },
  {
   "cell_type": "code",
   "execution_count": 4,
   "metadata": {},
   "outputs": [
    {
     "name": "stdout",
     "output_type": "stream",
     "text": [
      "Help on function my_fun in module __main__:\n",
      "\n",
      "my_fun(a)\n",
      "\n"
     ]
    }
   ],
   "source": [
    "help(my_fun)\n"
   ]
  },
  {
   "cell_type": "code",
   "execution_count": 8,
   "metadata": {},
   "outputs": [
    {
     "name": "stdout",
     "output_type": "stream",
     "text": [
      "Help on class Student in module __main__:\n",
      "\n",
      "class Student(builtins.object)\n",
      " |  Data descriptors defined here:\n",
      " |  \n",
      " |  __dict__\n",
      " |      dictionary for instance variables (if defined)\n",
      " |  \n",
      " |  __weakref__\n",
      " |      list of weak references to the object (if defined)\n",
      "\n"
     ]
    }
   ],
   "source": [
    "#  Syntax - class ClassName():   OR class ClassName:   * always capitalize our class name - PEP8 guidline\n",
    "\n",
    "class Student():\n",
    "    pass\n",
    "\n",
    "help(Student)"
   ]
  },
  {
   "cell_type": "code",
   "execution_count": 9,
   "metadata": {},
   "outputs": [
    {
     "name": "stdout",
     "output_type": "stream",
     "text": [
      "{'__module__': '__main__', '__dict__': <attribute '__dict__' of 'Student' objects>, '__weakref__': <attribute '__weakref__' of 'Student' objects>, '__doc__': None}\n"
     ]
    }
   ],
   "source": [
    "print(Student.__dict__)"
   ]
  },
  {
   "cell_type": "markdown",
   "metadata": {},
   "source": [
    "## Using a Class (Instantiating)\n",
    "<p>The process of creating a class is called <i>Instantiating</i>. Each time you create a variable of that type of class, it is referred to as an <i>Instance</i> of that class. This is the second step in the process of using a class.</p>"
   ]
  },
  {
   "cell_type": "code",
   "execution_count": 14,
   "metadata": {},
   "outputs": [
    {
     "name": "stdout",
     "output_type": "stream",
     "text": [
      "2399943896640\n",
      "2399942466560\n"
     ]
    }
   ],
   "source": [
    "a_list = [1,2,3,4]\n",
    "b_list = [5,6,7,8]\n",
    "\n",
    "print(id(a_list))\n",
    "print(id(b_list))"
   ]
  },
  {
   "cell_type": "code",
   "execution_count": 15,
   "metadata": {},
   "outputs": [
    {
     "name": "stdout",
     "output_type": "stream",
     "text": [
      "[1, 2, 3, 4]\n",
      "[5, 6, 7, 8]\n",
      "[1, 2, 3, 4]\n",
      "[5, 6, 7, 8, 100]\n"
     ]
    }
   ],
   "source": [
    "print(a_list)\n",
    "print(b_list)\n",
    "b_list.append(100)\n",
    "print(a_list)\n",
    "print(b_list)"
   ]
  },
  {
   "cell_type": "code",
   "execution_count": null,
   "metadata": {},
   "outputs": [],
   "source": []
  },
  {
   "cell_type": "code",
   "execution_count": null,
   "metadata": {},
   "outputs": [],
   "source": []
  },
  {
   "cell_type": "markdown",
   "metadata": {},
   "source": [
    "##### Creating One Instance"
   ]
  },
  {
   "cell_type": "code",
   "execution_count": 16,
   "metadata": {},
   "outputs": [
    {
     "name": "stdout",
     "output_type": "stream",
     "text": [
      "<__main__.Student object at 0x0000022EC6B79C40>\n"
     ]
    },
    {
     "data": {
      "text/plain": [
       "<__main__.Student at 0x22ec6b79c40>"
      ]
     },
     "execution_count": 16,
     "metadata": {},
     "output_type": "execute_result"
    }
   ],
   "source": [
    "# Syntax: variable_name = ClassName()\n",
    "\n",
    "student1 = Student()\n",
    "\n",
    "print(student1)\n",
    "student1"
   ]
  },
  {
   "cell_type": "code",
   "execution_count": 17,
   "metadata": {},
   "outputs": [
    {
     "name": "stdout",
     "output_type": "stream",
     "text": [
      "<__main__.Student object at 0x0000022EC6B8D670>\n",
      "<__main__.Student object at 0x0000022EC6B79F40>\n"
     ]
    },
    {
     "data": {
      "text/plain": [
       "<__main__.Student at 0x22ec6b79f40>"
      ]
     },
     "execution_count": 17,
     "metadata": {},
     "output_type": "execute_result"
    }
   ],
   "source": [
    "student2 = Student()\n",
    "\n",
    "print(student2)\n",
    "student2\n",
    "\n",
    "student3 = Student()\n",
    "\n",
    "print(student3)\n",
    "student3"
   ]
  },
  {
   "cell_type": "markdown",
   "metadata": {},
   "source": [
    "##### Creating Multiple Instances"
   ]
  },
  {
   "cell_type": "code",
   "execution_count": 18,
   "metadata": {},
   "outputs": [
    {
     "data": {
      "text/plain": [
       "True"
      ]
     },
     "execution_count": 18,
     "metadata": {},
     "output_type": "execute_result"
    }
   ],
   "source": [
    "isinstance(student1, Student)"
   ]
  },
  {
   "cell_type": "markdown",
   "metadata": {},
   "source": [
    "##### Adding attributes to instances"
   ]
  },
  {
   "cell_type": "code",
   "execution_count": 23,
   "metadata": {},
   "outputs": [
    {
     "name": "stdout",
     "output_type": "stream",
     "text": [
      "student1: {'first_name': 'John', 'last_name': 'Smith', 'middle_name': 'Jacob'}\n",
      "student2: {'first_name': 'Laura', 'last_name': 'Green'}\n"
     ]
    }
   ],
   "source": [
    "# syntax: instance_var_name.attribute_name = value\n",
    "\n",
    "student1.first_name = 'John'\n",
    "student1.last_name = 'Smith'\n",
    "\n",
    "student2.first_name = 'Laura'\n",
    "student2.last_name = 'Green'\n",
    "\n",
    "print(\"student1:\", student1.__dict__)\n",
    "print(\"student2:\", student2.__dict__)"
   ]
  },
  {
   "cell_type": "code",
   "execution_count": 22,
   "metadata": {
    "scrolled": true
   },
   "outputs": [
    {
     "name": "stdout",
     "output_type": "stream",
     "text": [
      "student1: {'first_name': 'John', 'last_name': 'Smith', 'middle_name': 'Jacob'}\n",
      "student2: {'first_name': 'Laura', 'last_name': 'Green'}\n"
     ]
    }
   ],
   "source": [
    "# syntax: instance_var_name.attribute_name = value\n",
    "\n",
    "student1.first_name = 'John'\n",
    "student1.middle_name = 'Jacob'\n",
    "student1.last_name = 'Smith'\n",
    "\n",
    "student2.first_name = 'Laura'\n",
    "student2.last_name = 'Green'\n",
    "\n",
    "print(\"student1:\", student1.__dict__)\n",
    "print(\"student2:\", student2.__dict__)"
   ]
  },
  {
   "cell_type": "markdown",
   "metadata": {},
   "source": [
    "#### Access attributes of an instance"
   ]
  },
  {
   "cell_type": "code",
   "execution_count": 24,
   "metadata": {},
   "outputs": [
    {
     "name": "stdout",
     "output_type": "stream",
     "text": [
      "John\n",
      "Laura\n"
     ]
    }
   ],
   "source": [
    "print(student1.first_name)\n",
    "print(student2.first_name)"
   ]
  },
  {
   "cell_type": "markdown",
   "metadata": {},
   "source": [
    "##### In-Class Exercise #1 - Create a Class 'Car' and Instantiate three different car instances. Add a different make for each car."
   ]
  },
  {
   "cell_type": "code",
   "execution_count": 25,
   "metadata": {},
   "outputs": [],
   "source": [
    "class Car():\n",
    "    pass"
   ]
  },
  {
   "cell_type": "code",
   "execution_count": 32,
   "metadata": {},
   "outputs": [],
   "source": [
    "car1 = Car()\n",
    "car2 = Car()\n",
    "car3 = Car()"
   ]
  },
  {
   "cell_type": "code",
   "execution_count": 39,
   "metadata": {},
   "outputs": [
    {
     "name": "stdout",
     "output_type": "stream",
     "text": [
      "Toyota\n",
      "Honda\n",
      "Tesla\n",
      "Toyota\n",
      "Honda\n",
      "Tesla\n"
     ]
    }
   ],
   "source": [
    "car1.make =  'Toyota'\n",
    "car1.model =  'Prius'\n",
    "car1.year =  '2011'\n",
    "\n",
    "\n",
    "car2.make = 'Honda'\n",
    "car2.model = 'Pilot'\n",
    "car2.year = '2020'\n",
    "\n",
    "car3.make = 'Tesla'\n",
    "car3.model = 'Model X'\n",
    "car3.year = '2020'\n",
    "\n",
    "\n",
    "cars = [car1, car2, car3]\n",
    "\n",
    "for c in cars:\n",
    "    print(c.make)\n",
    "\n",
    "print(car1.make)\n",
    "print(car2.make)\n",
    "print(car3.make)"
   ]
  },
  {
   "cell_type": "markdown",
   "metadata": {},
   "source": [
    "## The \\__init\\__() Method <br>\n",
    "<p>This method is used in almost every created class, and called only once upon the creation of the class instance. This method will initialize all variables needed for the object.</p>"
   ]
  },
  {
   "cell_type": "markdown",
   "metadata": {},
   "source": [
    "##### The 'self' Attribute <br>\n",
    "<p>This attribute is required to keep track of specific instance's attributes. Without the self attribute, the program would not know how to reference or keep track of an instance's attributes.</p>"
   ]
  },
  {
   "cell_type": "code",
   "execution_count": 40,
   "metadata": {},
   "outputs": [
    {
     "name": "stdout",
     "output_type": "stream",
     "text": [
      "Help on method_descriptor:\n",
      "\n",
      "upper(self, /)\n",
      "    Return a copy of the string converted to uppercase.\n",
      "\n"
     ]
    }
   ],
   "source": [
    "help(str.upper)"
   ]
  },
  {
   "cell_type": "code",
   "execution_count": 41,
   "metadata": {},
   "outputs": [
    {
     "name": "stdout",
     "output_type": "stream",
     "text": [
      "BASH torres\n"
     ]
    }
   ],
   "source": [
    "name1 = 'bash'\n",
    "name2 = 'torres'\n",
    "\n",
    "print(name1.upper(), name2 )"
   ]
  },
  {
   "cell_type": "code",
   "execution_count": 45,
   "metadata": {},
   "outputs": [
    {
     "data": {
      "text/plain": [
       "'BASH'"
      ]
     },
     "execution_count": 45,
     "metadata": {},
     "output_type": "execute_result"
    }
   ],
   "source": [
    "str.upper(name1)"
   ]
  },
  {
   "cell_type": "code",
   "execution_count": 47,
   "metadata": {},
   "outputs": [
    {
     "data": {
      "text/plain": [
       "'BASH'"
      ]
     },
     "execution_count": 47,
     "metadata": {},
     "output_type": "execute_result"
    }
   ],
   "source": [
    "name1.upper()"
   ]
  },
  {
   "cell_type": "code",
   "execution_count": 49,
   "metadata": {},
   "outputs": [
    {
     "name": "stdout",
     "output_type": "stream",
     "text": [
      "<__main__.Student object at 0x0000022EC7026610>\n",
      "Jack\n"
     ]
    }
   ],
   "source": [
    "def create_student(first,last,teacher):\n",
    "    student_instance = Student()\n",
    "    student_instance.first_name = first\n",
    "    student_instance.last_name = last\n",
    "    student_instance.teacher = teacher\n",
    "    return student_instance\n",
    "\n",
    "new_student = create_student('Jack','Johnson','Mr. Teacherson')\n",
    "print(new_student)\n",
    "print(new_student.first_name)"
   ]
  },
  {
   "cell_type": "code",
   "execution_count": 51,
   "metadata": {},
   "outputs": [
    {
     "name": "stdout",
     "output_type": "stream",
     "text": [
      "{'first_name': 'Jack', 'last_name': 'Johnson', 'teacher': 'Mr. Teacherson'}\n"
     ]
    }
   ],
   "source": [
    "print(new_student.__dict__)"
   ]
  },
  {
   "cell_type": "code",
   "execution_count": 54,
   "metadata": {},
   "outputs": [
    {
     "name": "stdout",
     "output_type": "stream",
     "text": [
      "<__main__.Student object at 0x0000022EC81FB4C0>\n",
      "Sally\n",
      "{'first_name': 'Sally', 'last_name': 'McDoogle', 'teacher': 'Mrs. Teacherson'}\n"
     ]
    }
   ],
   "source": [
    "def create_student_like_init(self, first,last,teacher):\n",
    "    self.first_name = first\n",
    "    self.last_name = last\n",
    "    self.teacher = teacher\n",
    "    return self\n",
    "\n",
    "newer_student = create_student_like_init(Student(), 'Sally', 'McDoogle', 'Mrs. Teacherson')\n",
    "\n",
    "print(newer_student)\n",
    "print(newer_student.first_name)\n",
    "print(newer_student.__dict__)"
   ]
  },
  {
   "cell_type": "code",
   "execution_count": 56,
   "metadata": {},
   "outputs": [
    {
     "name": "stdout",
     "output_type": "stream",
     "text": [
      "Honda\n"
     ]
    }
   ],
   "source": [
    "def create_car(self,make):\n",
    "    self.make= make\n",
    "    return self\n",
    "car1 = create_car(Car(), 'Honda')\n",
    "print(car1.make)"
   ]
  },
  {
   "cell_type": "code",
   "execution_count": 57,
   "metadata": {},
   "outputs": [
    {
     "name": "stdout",
     "output_type": "stream",
     "text": [
      "Hello I am creating a new student!\n",
      "self: <__main__.Student object at 0x0000022EC81E81C0>\n",
      "Bash Torres has been created\n",
      "<__main__.Student object at 0x0000022EC81E81C0>\n",
      "{'first_name': 'Bash', 'last_name': 'Torres', 'teacher': 'Mrs. Johnson', 'full_name': 'Bash Torres'}\n"
     ]
    }
   ],
   "source": [
    "class Student:\n",
    "    def __init__(self, first, last, teacher):\n",
    "        print('Hello I am creating a new student!')\n",
    "        print('self:', self)\n",
    "        self.first_name = first\n",
    "        self.last_name = last\n",
    "        self.teacher = teacher\n",
    "        self.full_name = first + ' ' +last\n",
    "        print(f'{self.full_name} has been created')\n",
    "        \n",
    "newest_student = Student('Bash', 'Torres', 'Mrs. Johnson')\n",
    "print(newest_student)\n",
    "print(newest_student.__dict__)"
   ]
  },
  {
   "cell_type": "code",
   "execution_count": 58,
   "metadata": {},
   "outputs": [
    {
     "name": "stdout",
     "output_type": "stream",
     "text": [
      "Hello I am creating a new student!\n",
      "self: <__main__.Student object at 0x0000022EC7F80490>\n",
      "Kaylie Minson has been created\n"
     ]
    }
   ],
   "source": [
    "student_a = Student('Kaylie', 'Minson', 'Mr Torres')"
   ]
  },
  {
   "cell_type": "code",
   "execution_count": 60,
   "metadata": {},
   "outputs": [
    {
     "name": "stdout",
     "output_type": "stream",
     "text": [
      "Help on class Student in module __main__:\n",
      "\n",
      "class Student(builtins.object)\n",
      " |  Student(first, last, teacher)\n",
      " |  \n",
      " |  Methods defined here:\n",
      " |  \n",
      " |  __init__(self, first, last, teacher)\n",
      " |      Initialize self.  See help(type(self)) for accurate signature.\n",
      " |  \n",
      " |  ----------------------------------------------------------------------\n",
      " |  Data descriptors defined here:\n",
      " |  \n",
      " |  __dict__\n",
      " |      dictionary for instance variables (if defined)\n",
      " |  \n",
      " |  __weakref__\n",
      " |      list of weak references to the object (if defined)\n",
      "\n"
     ]
    }
   ],
   "source": [
    "help(Student)"
   ]
  },
  {
   "cell_type": "code",
   "execution_count": 64,
   "metadata": {},
   "outputs": [
    {
     "name": "stdout",
     "output_type": "stream",
     "text": [
      "Mr. Stanton\n",
      "{'first_name': 'Elon', 'last_name': 'Musk', 'teacher': 'Mr. Stanton'}\n",
      "{'first_name': 'Eddie', 'last_name': 'Munson', 'teacher': 'Ms. Parks'}\n"
     ]
    }
   ],
   "source": [
    "class Student(): #if we wanted to have a keyward argument\n",
    "    def __init__(self,first,last,teacher='Mr. Stanton'):\n",
    "        self.first_name = first\n",
    "        self.last_name = last\n",
    "        self.teacher = teacher\n",
    "        \n",
    "student_b= Student('bill', 'gates')\n",
    "print(student_b.teacher)\n",
    "\n",
    "student_c= Student(last='Musk', first='Elon')\n",
    "print(student_c.__dict__)\n",
    "\n",
    "student_d= Student('Eddie', 'Munson', 'Ms. Parks')\n",
    "print(student_d.__dict__)"
   ]
  },
  {
   "cell_type": "markdown",
   "metadata": {},
   "source": [
    "## Class Attributes <br>\n",
    "<p>While variables are inside of a class, they are referred to as attributes and not variables. When someone says 'attribute' you know they're speaking about a class. Attributes can be initialized through the init method, or outside of it.</p>"
   ]
  },
  {
   "cell_type": "markdown",
   "metadata": {},
   "source": [
    "##### Initializing Attributes"
   ]
  },
  {
   "cell_type": "code",
   "execution_count": 65,
   "metadata": {},
   "outputs": [],
   "source": [
    "class Truck:\n",
    "    wheels = 4 # Class attribute\n",
    "    \n",
    "    def __init__(self, color,make):\n",
    "        self.color = color    #Instance Attribute\n",
    "        self.make = make    #Instance Attribute\n",
    "        \n",
    "truck1 = Truck('Red', 'Chevrolet')\n",
    "truck2 = Truck('Blue', 'Ford')"
   ]
  },
  {
   "cell_type": "code",
   "execution_count": 66,
   "metadata": {},
   "outputs": [
    {
     "name": "stdout",
     "output_type": "stream",
     "text": [
      "{'color': 'Red', 'make': 'Chevrolet'}\n"
     ]
    }
   ],
   "source": [
    "print(truck1.__dict__)"
   ]
  },
  {
   "cell_type": "code",
   "execution_count": 67,
   "metadata": {
    "scrolled": true
   },
   "outputs": [
    {
     "name": "stdout",
     "output_type": "stream",
     "text": [
      "Red\n",
      "Chevrolet\n",
      "4\n"
     ]
    }
   ],
   "source": [
    "print(truck1.color)\n",
    "print(truck1.make)\n",
    "print(truck1.wheels)"
   ]
  },
  {
   "cell_type": "code",
   "execution_count": 68,
   "metadata": {},
   "outputs": [
    {
     "name": "stdout",
     "output_type": "stream",
     "text": [
      "{'__module__': '__main__', 'wheels': 4, '__init__': <function Truck.__init__ at 0x0000022EC81A9A60>, '__dict__': <attribute '__dict__' of 'Truck' objects>, '__weakref__': <attribute '__weakref__' of 'Truck' objects>, '__doc__': None}\n"
     ]
    }
   ],
   "source": [
    "print(Truck.__dict__)"
   ]
  },
  {
   "cell_type": "code",
   "execution_count": null,
   "metadata": {},
   "outputs": [],
   "source": []
  },
  {
   "cell_type": "markdown",
   "metadata": {},
   "source": [
    "##### Accessing Class Attributes"
   ]
  },
  {
   "cell_type": "code",
   "execution_count": null,
   "metadata": {
    "scrolled": true
   },
   "outputs": [],
   "source": [
    "# See Above - Same as accessing instance attributes -- instance.attribute_name"
   ]
  },
  {
   "cell_type": "code",
   "execution_count": null,
   "metadata": {},
   "outputs": [],
   "source": []
  },
  {
   "cell_type": "markdown",
   "metadata": {},
   "source": [
    "##### Setting Defaults for Attributes"
   ]
  },
  {
   "cell_type": "code",
   "execution_count": 69,
   "metadata": {},
   "outputs": [
    {
     "name": "stdout",
     "output_type": "stream",
     "text": [
      "Mr. Stanton\n",
      "{'first_name': 'Elon', 'last_name': 'Musk', 'teacher': 'Mr. Stanton'}\n",
      "{'first_name': 'Eddie', 'last_name': 'Munson', 'teacher': 'Ms. Parks'}\n"
     ]
    }
   ],
   "source": [
    "class Student(): #if we wanted to have a keyward argument\n",
    "    def __init__(self,first,last,teacher='Mr. Stanton'):\n",
    "        self.first_name = first\n",
    "        self.last_name = last\n",
    "        self.teacher = teacher\n",
    "        \n",
    "student_b= Student('bill', 'gates')\n",
    "print(student_b.teacher)\n",
    "\n",
    "student_c= Student(last='Musk', first='Elon')\n",
    "print(student_c.__dict__)\n",
    "\n",
    "student_d= Student('Eddie', 'Munson', 'Ms. Parks')\n",
    "print(student_d.__dict__)"
   ]
  },
  {
   "cell_type": "code",
   "execution_count": 70,
   "metadata": {},
   "outputs": [],
   "source": [
    "class Bike():\n",
    "    \n",
    "    def __init__(self, color, brand='Schwinn'): #brand is a default param\n",
    "        self.color = color\n",
    "        self.brand = brand\n",
    "        self.wheels = 2 # Hard-code\n",
    "        \n",
    "        \n",
    "my_bike = Bike('blue')\n",
    "your_bike = Bike('red', 'Giant')"
   ]
  },
  {
   "cell_type": "markdown",
   "metadata": {},
   "source": [
    "##### Changing Class Attributes <br>\n",
    "<p>Keep in mind there are global class attributes and then there are attributes only available to each class instance which won't effect other classes.</p>"
   ]
  },
  {
   "cell_type": "code",
   "execution_count": 72,
   "metadata": {},
   "outputs": [],
   "source": [
    "class Truck:\n",
    "    wheels = 4 \n",
    "    def __init__(self,color,make):\n",
    "        self.color = color\n",
    "        self.make = make"
   ]
  },
  {
   "cell_type": "code",
   "execution_count": 78,
   "metadata": {},
   "outputs": [],
   "source": [
    "truck1 = Truck('Blue','Chevrolote')\n",
    "truck2 = Truck('Green','Honda')"
   ]
  },
  {
   "cell_type": "code",
   "execution_count": 79,
   "metadata": {},
   "outputs": [
    {
     "name": "stdout",
     "output_type": "stream",
     "text": [
      "16\n",
      "4\n",
      "\n",
      "{'color': 'Blue', 'make': 'Chevrolote', 'wheels': 16}\n",
      "{'color': 'Green', 'make': 'Honda'}\n",
      "{'__module__': '__main__', 'wheels': 4, '__init__': <function Truck.__init__ at 0x0000022EC8009AF0>, '__dict__': <attribute '__dict__' of 'Truck' objects>, '__weakref__': <attribute '__weakref__' of 'Truck' objects>, '__doc__': None}\n"
     ]
    }
   ],
   "source": [
    "truck1.wheels = 16\n",
    "print(truck1.wheels)\n",
    "print(truck2.wheels)\n",
    "print()\n",
    "print(truck1.__dict__)\n",
    "print(truck2.__dict__)\n",
    "print(Truck.__dict__)"
   ]
  },
  {
   "cell_type": "code",
   "execution_count": 80,
   "metadata": {},
   "outputs": [
    {
     "name": "stdout",
     "output_type": "stream",
     "text": [
      "16\n",
      "24\n",
      "\n",
      "{'color': 'Blue', 'make': 'Chevrolote', 'wheels': 16}\n",
      "{'color': 'Green', 'make': 'Honda'}\n",
      "{'__module__': '__main__', 'wheels': 24, '__init__': <function Truck.__init__ at 0x0000022EC8009AF0>, '__dict__': <attribute '__dict__' of 'Truck' objects>, '__weakref__': <attribute '__weakref__' of 'Truck' objects>, '__doc__': None}\n"
     ]
    }
   ],
   "source": [
    "Truck.wheels = 24 #Sets a class attribute on the Truck Class\n",
    "print(truck1.wheels)\n",
    "print(truck2.wheels)\n",
    "print()\n",
    "print(truck1.__dict__)\n",
    "print(truck2.__dict__)\n",
    "print(Truck.__dict__)"
   ]
  },
  {
   "cell_type": "markdown",
   "metadata": {},
   "source": [
    "##### In-Class Exercise 2 - Create an \\__init__ method for your Car class which takes in color and model with a default value for gas_level of 100. Your class should also have a class attribute for model. Once you have created the class, instantiate 3 different cars"
   ]
  },
  {
   "cell_type": "code",
   "execution_count": 157,
   "metadata": {
    "scrolled": true
   },
   "outputs": [
    {
     "name": "stdout",
     "output_type": "stream",
     "text": [
      "Car 1:  Blue Model X 100\n",
      "Car 2:  Blue Model Y 100\n",
      "Car 3:  Blue Model 3 100\n"
     ]
    }
   ],
   "source": [
    "class Car:\n",
    "    make = 'Tesla'\n",
    "    def __init__(self, color, model, gas_level= 100):  # <--- Instance Attribute\n",
    "        self.color = color\n",
    "        self.model = model\n",
    "        self.gas = gas_level\n",
    "        \n",
    "cars1 = Car('Blue','Model X',  )\n",
    "cars2 = Car('Blue','Model Y',  )\n",
    "cars3 = Car('Blue','Model 3',  )\n",
    "\n",
    "\n",
    "cars = [cars1, cars2, cars3]\n",
    "\n",
    "for c in cars:\n",
    "    print(f\"Car {cars.index(c) +1}:  {c.color} {c.model} {c.gas}\")\n",
    "\n",
    "# print(Car)"
   ]
  },
  {
   "cell_type": "code",
   "execution_count": null,
   "metadata": {},
   "outputs": [],
   "source": [
    "# Instructor version\n",
    "class Car:\n",
    "    make = 'Tesla'\n",
    "    def __init__(self, color, model, gas_level= 100):  # <--- Instance Attribute\n",
    "        self.color = color\n",
    "        self.model = model\n",
    "        self.gas = gas_level"
   ]
  },
  {
   "cell_type": "markdown",
   "metadata": {},
   "source": [
    "## Class Methods <br>\n",
    "<p>While inside of a class, functions are referred to as 'methods'. If you hear someone mention methods, they're speaking about classes. Methods are essentially functions, but only callable on the instances of a class.</p>"
   ]
  },
  {
   "cell_type": "code",
   "execution_count": 158,
   "metadata": {},
   "outputs": [
    {
     "name": "stdout",
     "output_type": "stream",
     "text": [
      "Help on method_descriptor:\n",
      "\n",
      "append(self, object, /)\n",
      "    Append object to the end of the list.\n",
      "\n"
     ]
    }
   ],
   "source": [
    "help(list.append)"
   ]
  },
  {
   "cell_type": "code",
   "execution_count": 159,
   "metadata": {},
   "outputs": [],
   "source": [
    "list_123 = [1,2,3]"
   ]
  },
  {
   "cell_type": "code",
   "execution_count": 160,
   "metadata": {},
   "outputs": [
    {
     "name": "stdout",
     "output_type": "stream",
     "text": [
      "[1, 2, 3, 'hello']\n"
     ]
    }
   ],
   "source": [
    "list_123.append(\"hello\")\n",
    "print(list_123)"
   ]
  },
  {
   "cell_type": "code",
   "execution_count": 161,
   "metadata": {
    "scrolled": true
   },
   "outputs": [
    {
     "ename": "AttributeError",
     "evalue": "'tuple' object has no attribute 'append'",
     "output_type": "error",
     "traceback": [
      "\u001b[1;31m---------------------------------------------------------------------------\u001b[0m",
      "\u001b[1;31mAttributeError\u001b[0m                            Traceback (most recent call last)",
      "Input \u001b[1;32mIn [161]\u001b[0m, in \u001b[0;36m<cell line: 2>\u001b[1;34m()\u001b[0m\n\u001b[0;32m      1\u001b[0m tuple_123 \u001b[38;5;241m=\u001b[39m (\u001b[38;5;241m1\u001b[39m, \u001b[38;5;241m2\u001b[39m, \u001b[38;5;241m3\u001b[39m)\n\u001b[1;32m----> 2\u001b[0m \u001b[43mtuple_123\u001b[49m\u001b[38;5;241;43m.\u001b[39;49m\u001b[43mappend\u001b[49m(\u001b[38;5;124m'\u001b[39m\u001b[38;5;124mHello\u001b[39m\u001b[38;5;124m'\u001b[39m)\n\u001b[0;32m      3\u001b[0m \u001b[38;5;28mprint\u001b[39m(tuple_123)\n",
      "\u001b[1;31mAttributeError\u001b[0m: 'tuple' object has no attribute 'append'"
     ]
    }
   ],
   "source": [
    "tuple_123 = (1, 2, 3)\n",
    "tuple_123.append('Hello')\n",
    "print(tuple_123)"
   ]
  },
  {
   "cell_type": "code",
   "execution_count": 163,
   "metadata": {
    "scrolled": true
   },
   "outputs": [
    {
     "ename": "NameError",
     "evalue": "name 'append' is not defined",
     "output_type": "error",
     "traceback": [
      "\u001b[1;31m---------------------------------------------------------------------------\u001b[0m",
      "\u001b[1;31mNameError\u001b[0m                                 Traceback (most recent call last)",
      "Input \u001b[1;32mIn [163]\u001b[0m, in \u001b[0;36m<cell line: 1>\u001b[1;34m()\u001b[0m\n\u001b[1;32m----> 1\u001b[0m \u001b[43mappend\u001b[49m(\u001b[38;5;124m\"\u001b[39m\u001b[38;5;124mhello\u001b[39m\u001b[38;5;124m\"\u001b[39m)\n",
      "\u001b[1;31mNameError\u001b[0m: name 'append' is not defined"
     ]
    }
   ],
   "source": [
    "append(\"hello\")"
   ]
  },
  {
   "cell_type": "markdown",
   "metadata": {},
   "source": [
    "##### Creating"
   ]
  },
  {
   "cell_type": "code",
   "execution_count": 190,
   "metadata": {},
   "outputs": [],
   "source": [
    "# Syntax: class ClassName:\n",
    "#          def method_name(self, ...):\n",
    "#                 code to run when executed\n",
    "\n",
    "\n",
    "class Employee:\n",
    "    raise_amount = 1.05 # class attribute to raise salary 5%\n",
    "    \n",
    "    \n",
    "    def __init__(self, first,last,salary):\n",
    "        self.first_name =first\n",
    "        self.last_name =last\n",
    "        self.salary =salary\n",
    "        self.email =first.lower()+ \".\"+ last.lower() + '@company.org'\n",
    "        \n",
    "    def get_full_name(self):\n",
    "        return self.first_name + ' ' + self.last_name  \n",
    "    \n",
    "    def change_last_name(self, new_last_name):\n",
    "        self.last_name = new_last_name.title()\n",
    "        self.email = self.first_name.lower() + '.' + new_last_name.lower()+'@company.org'\n",
    "        \n",
    "        \n",
    "    def apply_raise(self):\n",
    "        self.salary *= self.raise_amount #self.salary = self.salary\n",
    "        print(f'Congrats {self.full_name}, You have recieved a raise your new amount is{self.salary}')\n",
    "        \n",
    "        \n",
    "        \n",
    "        \n",
    "emp_1 = Employee('Charly','Bucket', 100000)\n",
    "emp_2 = Employee('Sherly','Holmes', 50000)"
   ]
  },
  {
   "cell_type": "code",
   "execution_count": 191,
   "metadata": {},
   "outputs": [
    {
     "data": {
      "text/plain": [
       "'Sherly Holmes'"
      ]
     },
     "execution_count": 191,
     "metadata": {},
     "output_type": "execute_result"
    }
   ],
   "source": [
    "def get_full_name(employee_instance):\n",
    "    return employee_instance.first_name + ' ' + employee_instance.last_name\n",
    "\n",
    "get_full_name(emp_1)\n",
    "get_full_name(emp_2)"
   ]
  },
  {
   "cell_type": "code",
   "execution_count": null,
   "metadata": {},
   "outputs": [],
   "source": []
  },
  {
   "cell_type": "markdown",
   "metadata": {},
   "source": [
    "##### Calling"
   ]
  },
  {
   "cell_type": "code",
   "execution_count": 192,
   "metadata": {},
   "outputs": [
    {
     "data": {
      "text/plain": [
       "'Charly Bucket'"
      ]
     },
     "execution_count": 192,
     "metadata": {},
     "output_type": "execute_result"
    }
   ],
   "source": [
    "# Syntac instance_var.method_name() or instnace_var.method_name(arg1, ...)\n",
    "emp_1.get_full_name()"
   ]
  },
  {
   "cell_type": "code",
   "execution_count": 193,
   "metadata": {},
   "outputs": [
    {
     "data": {
      "text/plain": [
       "'Sherly Holmes'"
      ]
     },
     "execution_count": 193,
     "metadata": {},
     "output_type": "execute_result"
    }
   ],
   "source": [
    "emp_2.get_full_name()"
   ]
  },
  {
   "cell_type": "code",
   "execution_count": null,
   "metadata": {},
   "outputs": [],
   "source": []
  },
  {
   "cell_type": "markdown",
   "metadata": {},
   "source": [
    "##### Modifying an Attribute's Value Through a Method"
   ]
  },
  {
   "cell_type": "code",
   "execution_count": 194,
   "metadata": {},
   "outputs": [
    {
     "name": "stdout",
     "output_type": "stream",
     "text": [
      "Charly Bucket\n",
      "Charly Wonka\n"
     ]
    }
   ],
   "source": [
    "def change_last_name(employee_instance, new_last_name):\n",
    "    employee_instance.last_name = new_last_name.title()\n",
    "    employee_instance.email = employee_instance.first_name.lower() +'.'+new_last_name.lower()+'@company.org'\n",
    "    \n",
    "print(emp_1.get_full_name())\n",
    "change_last_name(emp_1, 'Wonka')\n",
    "print(emp_1.get_full_name())"
   ]
  },
  {
   "cell_type": "code",
   "execution_count": 195,
   "metadata": {},
   "outputs": [
    {
     "name": "stdout",
     "output_type": "stream",
     "text": [
      "charly.wonka@company.org\n"
     ]
    }
   ],
   "source": [
    "print(emp_1.email)"
   ]
  },
  {
   "cell_type": "markdown",
   "metadata": {},
   "source": [
    "##### Incrementing an Attribute's Value Through a Method"
   ]
  },
  {
   "cell_type": "code",
   "execution_count": null,
   "metadata": {},
   "outputs": [],
   "source": [
    "emp_1.salary"
   ]
  },
  {
   "cell_type": "markdown",
   "metadata": {},
   "source": [
    "##### In-Class Exercise #3 - Add two methods to your car class. One method called `drive` that will take in the number of miles and decrease that car's `gas_level` by 1 unit for every 5 miles. Another method called `fill_up` will take in gallons and increase the `gas_level` by 10 units for every gallon."
   ]
  },
  {
   "cell_type": "code",
   "execution_count": 201,
   "metadata": {
    "scrolled": true
   },
   "outputs": [
    {
     "name": "stdout",
     "output_type": "stream",
     "text": [
      "Car 1:  Blue Model X 100\n",
      "Car 2:  Blue Model Y 100\n",
      "Car 3:  Blue Model 3 100\n",
      "None\n"
     ]
    }
   ],
   "source": [
    "class Car:\n",
    "    make = 'Tesla'\n",
    "    \n",
    "    \n",
    "    def __init__(self, color, model, gas_level= 100):  # <--- Instance Attribute\n",
    "        self.color = color\n",
    "        self.model = model\n",
    "        self.gas = gas_level\n",
    "        \n",
    "        \n",
    "    def drive(self, miles):\n",
    "        self.gas -= miles/5\n",
    "        \n",
    "        \n",
    "        \n",
    "    def fill_up(self, gallons):\n",
    "        self.gallons\n",
    "        \n",
    "        \n",
    "        \n",
    "cars1 = Car('Blue','Model X',  )\n",
    "cars2 = Car('Blue','Model Y',  )\n",
    "cars3 = Car('Blue','Model 3',  )\n",
    "\n",
    "\n",
    "cars = [cars1, cars2, cars3]\n",
    "\n",
    "for c in cars:\n",
    "    print(f\"Car {cars.index(c) +1}:  {c.color} {c.model} {c.gas}\")\n",
    "\n",
    "print(cars1.drive(10))"
   ]
  },
  {
   "cell_type": "code",
   "execution_count": 213,
   "metadata": {},
   "outputs": [
    {
     "name": "stdout",
     "output_type": "stream",
     "text": [
      "The Blue Model X now has a gas level of 80\n",
      "The Blue Model X now has a gas level of 130\n"
     ]
    }
   ],
   "source": [
    "class Car:\n",
    "    make = 'Tesla'\n",
    "    \n",
    "    \n",
    "    def __init__(self, color, model, gas_level= 100):  # <--- Instance Attribute\n",
    "        self.color = color\n",
    "        self.model = model\n",
    "        self.gas = gas_level\n",
    "        \n",
    "        \n",
    "    def drive(self, miles):\n",
    "        unit_decrease = miles // 5\n",
    "        self.gas = self.gas - unit_decrease #self.gas = self.gas -unit_decrease OR self.gas -= unit_decrease\n",
    "        print(f'The {self.color} {self.model} now has a gas level of {self.gas}')\n",
    "        \n",
    "        \n",
    "        \n",
    "    def fill_up(self, gallons):\n",
    "        unit_increase = gallons * 10\n",
    "        self.gas += unit_increase     # self.gas = self.gas + unit_increase\n",
    "        print(f'The {self.color} {self.model} now has a gas level of {self.gas}')\n",
    "        \n",
    "        \n",
    "        \n",
    "cars1 = Car('Blue','Model X',  )\n",
    "cars2 = Car('Blue','Model Y',  )\n",
    "cars3 = Car('Blue','Model 3',  )\n",
    "\n",
    "\n",
    "cars = [cars1, cars2, cars3]\n",
    "\n",
    "# for c in cars:\n",
    "#     print(f\"Car {cars.index(c) +1}:  {c.color} {c.model} {c.gas}\")\n",
    "    \n",
    "cars1.drive(100) #Should decrease by 210\n",
    "cars1.fill_up(5) #Should decrease by 50\n"
   ]
  },
  {
   "cell_type": "markdown",
   "metadata": {},
   "source": [
    "## Classes as Attributes <br>\n",
    "<p>Classes can also be used as attributes within another class. This is useful in situations where you need to keep variables locally stored, instead of globally stored.</p>"
   ]
  },
  {
   "cell_type": "code",
   "execution_count": 215,
   "metadata": {},
   "outputs": [],
   "source": [
    "class Album:\n",
    "    def __init__(self, title,artist, release_year, song_list=[]):\n",
    "        self.title = title\n",
    "        self.artist = artist\n",
    "        self.release_year = release_year\n",
    "        self.song_list = song_list\n",
    "    def add_song(self, song):\n",
    "        self.song_list.append(song)\n",
    "        print(f'{song.name} has been added to the album at position #{len(self.song_list)}')\n",
    "    \n",
    "    def play_album(self):\n",
    "        for song in self.song_list:\n",
    "            song.play()\n",
    "\n",
    "class Song:\n",
    "    def __init__(self, name,length):\n",
    "        self.name = name\n",
    "        self.length = length\n",
    "    def play(self):\n",
    "        print(f\"{self.name} is playing for the next {self.length}\")\n",
    "        \n",
    "abbey_road = Album(\"Abbey Road\", \"The Beatles\", 1969)\n",
    "song1 = Song('Come Together', '4:20')\n",
    "song2 = Song('Something', '4:20')\n",
    "song3 = Song('Maxwell\\'s SilverHammer', '4:20')\n",
    "song4 = Song('Elenor Rigby', '4:20')\n",
    "        "
   ]
  },
  {
   "cell_type": "code",
   "execution_count": 216,
   "metadata": {},
   "outputs": [
    {
     "name": "stdout",
     "output_type": "stream",
     "text": [
      "Come Together has been added to the album at position #1\n",
      "Something has been added to the album at position #2\n",
      "Maxwell's SilverHammer has been added to the album at position #3\n",
      "Elenor Rigby has been added to the album at position #4\n"
     ]
    }
   ],
   "source": [
    "abbey_road.add_song(song1)\n",
    "abbey_road.add_song(song2)\n",
    "abbey_road.add_song(song3)\n",
    "abbey_road.add_song(song4)"
   ]
  },
  {
   "cell_type": "code",
   "execution_count": 219,
   "metadata": {},
   "outputs": [
    {
     "name": "stdout",
     "output_type": "stream",
     "text": [
      "Come Together is playing for the next 4:20\n",
      "Something is playing for the next 4:20\n",
      "Maxwell's SilverHammer is playing for the next 4:20\n",
      "Elenor Rigby is playing for the next 4:20\n"
     ]
    }
   ],
   "source": [
    "abbey_road.play_album()"
   ]
  },
  {
   "cell_type": "markdown",
   "metadata": {},
   "source": [
    "# Exercises"
   ]
  },
  {
   "cell_type": "markdown",
   "metadata": {},
   "source": [
    "### Exercise 1 - Turn the shopping cart program into an object-oriented program"
   ]
  },
  {
   "cell_type": "code",
   "execution_count": 356,
   "metadata": {},
   "outputs": [
    {
     "name": "stdout",
     "output_type": "stream",
     "text": [
      "Hello, welcome to Shoppy!\n",
      "Would you like to Add, Remove, Show or Quit? add\n",
      "What would you like to purchase? pops\n",
      "How much does it cost? 2\n",
      "How many are you puchasing? 1\n",
      "Would you like to Add, Remove, Show or Quit? add\n",
      "What would you like to purchase? hoe\n",
      "How much does it cost? 5\n",
      "How many are you puchasing? 1\n",
      "Would you like to Add, Remove, Show or Quit? add\n",
      "What would you like to purchase? lop\n",
      "How much does it cost? 3\n",
      "How many are you puchasing? 1\n",
      "Would you like to Add, Remove, Show or Quit? quit\n",
      "\t You have purchased\n",
      "\t \t1 Pops at $2\n",
      "\t \t1 Hoe at $5\n",
      "\t \t1 Lop at $3\n",
      "\t The total price is $3\n"
     ]
    }
   ],
   "source": [
    "# Create a class called cart that retains items and has methods to add, remove, and show\n",
    "\n",
    "class Cart:\n",
    "    def __init__(self):\n",
    "        self.products = []\n",
    "      \n",
    "    def add_item(self, item):\n",
    "        self.products.append(item)\n",
    "    \n",
    "    def remove_item(self, item):\n",
    "        for c in self.products:\n",
    "            self.products.remove(c)\n",
    "    \n",
    "    def show(self, item):\n",
    "        for i in self.products:\n",
    "            print(f\"{item.amount} x {item.item} = {item.price}\")\n",
    "            \n",
    "    # def total(self,item):\n",
    "    #     total_price = item.total + item.total\n",
    "    #     return total_price\n",
    "            \n",
    "class Items:\n",
    "    def __init__(self, stock, price=\"\", amount=\"\", total= \"\"):\n",
    "        self.stock = stock\n",
    "        self.price = price\n",
    "        self.amount = amount\n",
    "        self.total = price * amount\n",
    "        \n",
    "        \n",
    "def shop():\n",
    "    my_cart = Cart()\n",
    "\n",
    "    print('Hello, welcome to Shoppy!')\n",
    "    \n",
    "    while True:\n",
    "        ask = input(\"Would you like to Add, Remove, Show or Quit? \").lower().strip()\n",
    "        while ask not in {\"add\", \"remove\",\"show\",\"quit\"}:\n",
    "            print(\"That is not a valid Response. Please answer add, remove, show or quit\")\n",
    "            break\n",
    "        if ask == \"quit\":\n",
    "            break\n",
    "        \n",
    "        if ask == \"add\":\n",
    "            stock = input(\"What would you like to purchase? \").title()\n",
    "            price = int(input(\"How much does it cost? \"))\n",
    "            amount = int(input(\"How many are you puchasing? \"))\n",
    "            purchase = Items(stock, price, amount)\n",
    "            my_cart.add_item(purchase)\n",
    "            continue\n",
    "    \n",
    "        if ask == \"remove\":\n",
    "            item = input(\"What would you like to remove? \")\n",
    "            put_back = Items(stock)\n",
    "            my_cart.remove_item(put_back)\n",
    "            continue\n",
    "            \n",
    "        if ask == \"show\":\n",
    "            print(f\"amount \\t item \\t price\")\n",
    "            for c in my_cart.products:\n",
    "                print(f\"{c.amount} \\t {c.stock} \\t {c.price}\")\n",
    "                continue\n",
    "                \n",
    "        if price != int:\n",
    "                print(\"Please put in a number\")\n",
    "                continue\n",
    "        if amount != int:\n",
    "                print(\"Please put in a number\")\n",
    "                continue\n",
    "    for t in my_cart.products:\n",
    "        total = t.total + t.total\n",
    "    print(\"\\t You have purchased\")\n",
    "    for c in my_cart.products:\n",
    "         print(f\"\\t \\t{c.amount} {c.stock} at ${c.price}\") \n",
    "    print(f\"\\t The total price is ${total}\")\n",
    "        \n",
    "            \n",
    "            \n",
    "            \n",
    "    \n",
    "shop()"
   ]
  },
  {
   "cell_type": "markdown",
   "metadata": {},
   "source": [
    "### Exercise 2 - Write a Python class for an Animal that has a name and energy attributes. The animal class should also have methods for eat, sleep, and play that will take in an integer and increase/decrease the energy of the animal with a formatted print statement"
   ]
  },
  {
   "cell_type": "code",
   "execution_count": null,
   "metadata": {},
   "outputs": [],
   "source": [
    "# Example 1\n",
    "# buddy = Animal('Buddy', 10)\n",
    "# buddy.play(5) -> \"Buddy is playing for 5 minutes. His energy is now 5\"\n",
    "# buddy.sleep(10) -> \"Buddy is sleeping for 5 minutes. His energy is now 15\""
   ]
  },
  {
   "cell_type": "code",
   "execution_count": 250,
   "metadata": {},
   "outputs": [],
   "source": [
    "class Animal:\n",
    "    \n",
    "    def __init__(self, name, species= \"dog\", age= 2, energy=100):\n",
    "        self.name = name\n",
    "        self.species = species\n",
    "        self.age = age\n",
    "        self.energy = energy\n",
    "        \n",
    "        \n",
    "    def eat(self, bowls):\n",
    "        if self.age > 5:\n",
    "            energy_up = food * 1\n",
    "            self.energy += energy_up\n",
    "            print(f\"{self.name} eat {self.bowls} whole bowls. Their energy level is now {self.energy}\")\n",
    "        \n",
    "        if self.age < 5:\n",
    "            energy_up = food * 3\n",
    "            self.energy += energy_up\n",
    "            print(f\"{self.name} eat {self.bowls} whole bowls. Their energy level is now {self.energy}\")\n",
    "        \n",
    "        \n",
    "    def play(self, play_times):\n",
    "        if self.species != \"cat\":\n",
    "            if self.age > 5:\n",
    "                energy_down = play_times // .5\n",
    "                self.energy -= energy_down \n",
    "                print(f\"{self.name} has played for {play_times} minutes. Their energy level is now {self.energy}\")\n",
    "\n",
    "            if self.age < 5:\n",
    "                energy_down = play_times // 1.5\n",
    "                self.energy -= energy_down \n",
    "                print(f\"{self.name} has played for {play_times} minutes. Their energy level is now {self.energy}\")\n",
    "        if self.species == {\"cat\", \"Cat\"}:\n",
    "            print(f\"Silly Human {self.name} is a cat. They don't play.\")\n",
    "        \n",
    "    def sleep(self, minutes):\n",
    "        if self.age > 5:\n",
    "            energy_up = minutes * 2\n",
    "            self.energy += energy_up\n",
    "            print(f\"{self.name} has slept for {minutes} minutes. Their energy level is now {self.energy}\")\n",
    "        \n",
    "        if self.age < 5:\n",
    "            energy_up = minutes * 5\n",
    "            self.energy += energy_up\n",
    "            print(f\"{self.name} has slept for {minutes} minutes. Their energy level is now {self.energy}\")\n",
    "        \n",
    "dog1 = Animal(\"Kratos\", )\n",
    "\n",
    "\n",
    "        "
   ]
  },
  {
   "cell_type": "code",
   "execution_count": 251,
   "metadata": {},
   "outputs": [],
   "source": [
    "dog2 = Animal(\"Rover\",\"dog\", 12)"
   ]
  },
  {
   "cell_type": "code",
   "execution_count": 252,
   "metadata": {},
   "outputs": [
    {
     "name": "stdout",
     "output_type": "stream",
     "text": [
      "Rover has played for 35 minutes. Their energy level is now 30.0\n"
     ]
    }
   ],
   "source": [
    "dog2.play(35)"
   ]
  },
  {
   "cell_type": "code",
   "execution_count": null,
   "metadata": {},
   "outputs": [],
   "source": []
  }
 ],
 "metadata": {
  "kernelspec": {
   "display_name": "Python 3 (ipykernel)",
   "language": "python",
   "name": "python3"
  },
  "language_info": {
   "codemirror_mode": {
    "name": "ipython",
    "version": 3
   },
   "file_extension": ".py",
   "mimetype": "text/x-python",
   "name": "python",
   "nbconvert_exporter": "python",
   "pygments_lexer": "ipython3",
   "version": "3.9.12"
  }
 },
 "nbformat": 4,
 "nbformat_minor": 2
}
